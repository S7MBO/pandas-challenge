{
 "cells": [
  {
   "cell_type": "markdown",
   "metadata": {},
   "source": [
    "### Dependancies & Setup"
   ]
  },
  {
   "cell_type": "code",
   "execution_count": 180,
   "metadata": {},
   "outputs": [],
   "source": [
    "# Declare dependencies\n",
    "import pandas as pd\n",
    "import numpy as np\n",
    "import os\n",
    "\n",
    "# Declare data source file \n",
    "source_file = os.path.join(\"Resources\", \"purchase_data.csv\")\n",
    "\n",
    "# Read source and store into pandas DF\n",
    "pymoli_data = pd.read_csv(file_to_load)"
   ]
  },
  {
   "cell_type": "markdown",
   "metadata": {},
   "source": [
    "### Player Count"
   ]
  },
  {
   "cell_type": "markdown",
   "metadata": {},
   "source": [
    "* Display the total number of players\n"
   ]
  },
  {
   "cell_type": "code",
   "execution_count": 181,
   "metadata": {},
   "outputs": [
    {
     "data": {
      "text/html": [
       "<div>\n",
       "<style scoped>\n",
       "    .dataframe tbody tr th:only-of-type {\n",
       "        vertical-align: middle;\n",
       "    }\n",
       "\n",
       "    .dataframe tbody tr th {\n",
       "        vertical-align: top;\n",
       "    }\n",
       "\n",
       "    .dataframe thead th {\n",
       "        text-align: right;\n",
       "    }\n",
       "</style>\n",
       "<table border=\"1\" class=\"dataframe\">\n",
       "  <thead>\n",
       "    <tr style=\"text-align: right;\">\n",
       "      <th></th>\n",
       "      <th>Total Players</th>\n",
       "    </tr>\n",
       "  </thead>\n",
       "  <tbody>\n",
       "    <tr>\n",
       "      <th>0</th>\n",
       "      <td>576</td>\n",
       "    </tr>\n",
       "  </tbody>\n",
       "</table>\n",
       "</div>"
      ],
      "text/plain": [
       "   Total Players\n",
       "0            576"
      ]
     },
     "execution_count": 181,
     "metadata": {},
     "output_type": "execute_result"
    }
   ],
   "source": [
    "# Count total players by name in \"SN\" column\n",
    "total_players = len(pymoli_df[\"SN\"].value_counts())\n",
    "\n",
    "# Create DF with all total players named player count\n",
    "player_count = pd.DataFrame({\"Total Players\":[total_players]})\n",
    "player_count\n",
    "\n"
   ]
  },
  {
   "cell_type": "markdown",
   "metadata": {},
   "source": [
    "### Purchasing Analysis (Total)"
   ]
  },
  {
   "cell_type": "markdown",
   "metadata": {},
   "source": [
    "* Run basic calculations to obtain number of unique items, average price, etc.\n",
    "\n",
    "\n",
    "* Create a summary data frame to hold the results\n",
    "\n",
    "\n",
    "* Optional: give the displayed data cleaner formatting\n",
    "\n",
    "\n",
    "* Display the summary data frame\n"
   ]
  },
  {
   "cell_type": "code",
   "execution_count": 182,
   "metadata": {
    "scrolled": true
   },
   "outputs": [
    {
     "data": {
      "text/html": [
       "<style type=\"text/css\">\n",
       "</style>\n",
       "<table id=\"T_b8d20_\">\n",
       "  <thead>\n",
       "    <tr>\n",
       "      <th class=\"blank level0\" >&nbsp;</th>\n",
       "      <th class=\"col_heading level0 col0\" >Total Unique Items</th>\n",
       "      <th class=\"col_heading level0 col1\" >Average Cost</th>\n",
       "      <th class=\"col_heading level0 col2\" >Total Purchases</th>\n",
       "      <th class=\"col_heading level0 col3\" >Total Revenue</th>\n",
       "    </tr>\n",
       "  </thead>\n",
       "  <tbody>\n",
       "    <tr>\n",
       "      <th id=\"T_b8d20_level0_row0\" class=\"row_heading level0 row0\" >0</th>\n",
       "      <td id=\"T_b8d20_row0_col0\" class=\"data row0 col0\" >$179.00</td>\n",
       "      <td id=\"T_b8d20_row0_col1\" class=\"data row0 col1\" >$3.05</td>\n",
       "      <td id=\"T_b8d20_row0_col2\" class=\"data row0 col2\" >780</td>\n",
       "      <td id=\"T_b8d20_row0_col3\" class=\"data row0 col3\" >$2,379.77</td>\n",
       "    </tr>\n",
       "  </tbody>\n",
       "</table>\n"
      ],
      "text/plain": [
       "<pandas.io.formats.style.Styler at 0x1aba434d250>"
      ]
     },
     "execution_count": 182,
     "metadata": {},
     "output_type": "execute_result"
    }
   ],
   "source": [
    "# Total unique items\n",
    "total_unique_items = len((pymoli_data[\"Item ID\"]).unique())\n",
    "\n",
    "# Average cost of items\n",
    "average_cost = (pymoli_data[\"Price\"]).mean()\n",
    "\n",
    "# Total purchases\n",
    "total_purchases = (pymoli_data[\"Purchase ID\"]).count()\n",
    "\n",
    "#Total revenue\n",
    "total_revenue = (pymoli_data[\"Price\"]).sum()\n",
    "\n",
    "# Create DF that includes these values\n",
    "purchasing_analysis_df = pd.DataFrame({\n",
    "    \"Total Unique Items\":[total_unique_items],\n",
    "    \"Average Cost\":[average_cost], \n",
    "    \"Total Purchases\": [total_purchases], \n",
    "    \"Total Revenue\": [total_revenue]})\n",
    "\n",
    "# Add currency formatting\n",
    "purchasing_analysis_df.style.format({\n",
    "    \"Total Unique Items\":\"${:,.2f}\",\n",
    "    \"Average Cost\":\"${:,.2f}\",\n",
    "    \"Total Revenue\":\"${:,.2f}\",\n",
    "    \"Total Revenue\":\"${:,.2f}\"})\n"
   ]
  },
  {
   "cell_type": "markdown",
   "metadata": {},
   "source": [
    "### Gender Demographics"
   ]
  },
  {
   "cell_type": "markdown",
   "metadata": {},
   "source": [
    "* Percentage and Count of Male Players\n",
    "\n",
    "\n",
    "* Percentage and Count of Female Players\n",
    "\n",
    "\n",
    "* Percentage and Count of Other / Non-Disclosed\n",
    "\n",
    "\n"
   ]
  },
  {
   "cell_type": "code",
   "execution_count": 183,
   "metadata": {},
   "outputs": [
    {
     "data": {
      "text/html": [
       "<div>\n",
       "<style scoped>\n",
       "    .dataframe tbody tr th:only-of-type {\n",
       "        vertical-align: middle;\n",
       "    }\n",
       "\n",
       "    .dataframe tbody tr th {\n",
       "        vertical-align: top;\n",
       "    }\n",
       "\n",
       "    .dataframe thead th {\n",
       "        text-align: right;\n",
       "    }\n",
       "</style>\n",
       "<table border=\"1\" class=\"dataframe\">\n",
       "  <thead>\n",
       "    <tr style=\"text-align: right;\">\n",
       "      <th></th>\n",
       "      <th>Total Count</th>\n",
       "      <th>Percentage of Players</th>\n",
       "    </tr>\n",
       "  </thead>\n",
       "  <tbody>\n",
       "    <tr>\n",
       "      <th>Female</th>\n",
       "      <td>81</td>\n",
       "      <td>14.06</td>\n",
       "    </tr>\n",
       "    <tr>\n",
       "      <th>Male</th>\n",
       "      <td>484</td>\n",
       "      <td>84.03</td>\n",
       "    </tr>\n",
       "    <tr>\n",
       "      <th>Other / Non-Disclosed</th>\n",
       "      <td>11</td>\n",
       "      <td>1.91</td>\n",
       "    </tr>\n",
       "  </tbody>\n",
       "</table>\n",
       "</div>"
      ],
      "text/plain": [
       "                       Total Count  Percentage of Players\n",
       "Female                          81                  14.06\n",
       "Male                           484                  84.03\n",
       "Other / Non-Disclosed           11                   1.91"
      ]
     },
     "execution_count": 183,
     "metadata": {},
     "output_type": "execute_result"
    }
   ],
   "source": [
    "# Group Pymoli data by Gender to discover gender demographics\n",
    "gender_stats = pymoli_data.groupby(\"Gender\")\n",
    "total_genders = gender_stats.nunique()[\"SN\"]\n",
    "gender_percentages = total_genders/total_players*100\n",
    "\n",
    "# Create DF that includes these values\n",
    "gender_demographics_df = pd.DataFrame({\"Total Count\": total_genders, \"Percentage of Players\": gender_percentages})\n",
    "\n",
    "# Add formatting\n",
    "gender_demographics_df.index.name = None\n",
    "gender_demographics_df.sort_values([\"Percentage of Players\"], ascending = False)\n",
    "gender_demographics_df = gender_demographics_df.round(2)\n",
    "gender_demographics_df\n"
   ]
  },
  {
   "cell_type": "markdown",
   "metadata": {},
   "source": [
    "\n",
    "### Purchasing Analysis (Gender)"
   ]
  },
  {
   "cell_type": "markdown",
   "metadata": {},
   "source": [
    "* Run basic calculations to obtain purchase count, avg. purchase price, avg. purchase total per person etc. by gender\n",
    "\n",
    "\n",
    "\n",
    "\n",
    "* Create a summary data frame to hold the results\n",
    "\n",
    "\n",
    "* Optional: give the displayed data cleaner formatting\n",
    "\n",
    "\n",
    "* Display the summary data frame"
   ]
  },
  {
   "cell_type": "code",
   "execution_count": 184,
   "metadata": {},
   "outputs": [
    {
     "data": {
      "text/html": [
       "<style type=\"text/css\">\n",
       "</style>\n",
       "<table id=\"T_a3644_\">\n",
       "  <thead>\n",
       "    <tr>\n",
       "      <th class=\"blank level0\" >&nbsp;</th>\n",
       "      <th class=\"col_heading level0 col0\" >Total Items Purchased</th>\n",
       "      <th class=\"col_heading level0 col1\" >Average Purchase Cost</th>\n",
       "      <th class=\"col_heading level0 col2\" >Average Purchase Value</th>\n",
       "      <th class=\"col_heading level0 col3\" >Average Purchase Total per Player</th>\n",
       "    </tr>\n",
       "  </thead>\n",
       "  <tbody>\n",
       "    <tr>\n",
       "      <th id=\"T_a3644_level0_row0\" class=\"row_heading level0 row0\" >Female</th>\n",
       "      <td id=\"T_a3644_row0_col0\" class=\"data row0 col0\" >113</td>\n",
       "      <td id=\"T_a3644_row0_col1\" class=\"data row0 col1\" >$3.20</td>\n",
       "      <td id=\"T_a3644_row0_col2\" class=\"data row0 col2\" >$361.94</td>\n",
       "      <td id=\"T_a3644_row0_col3\" class=\"data row0 col3\" >$4.47</td>\n",
       "    </tr>\n",
       "    <tr>\n",
       "      <th id=\"T_a3644_level0_row1\" class=\"row_heading level0 row1\" >Male</th>\n",
       "      <td id=\"T_a3644_row1_col0\" class=\"data row1 col0\" >652</td>\n",
       "      <td id=\"T_a3644_row1_col1\" class=\"data row1 col1\" >$3.02</td>\n",
       "      <td id=\"T_a3644_row1_col2\" class=\"data row1 col2\" >$1,967.64</td>\n",
       "      <td id=\"T_a3644_row1_col3\" class=\"data row1 col3\" >$4.07</td>\n",
       "    </tr>\n",
       "    <tr>\n",
       "      <th id=\"T_a3644_level0_row2\" class=\"row_heading level0 row2\" >Other / Non-Disclosed</th>\n",
       "      <td id=\"T_a3644_row2_col0\" class=\"data row2 col0\" >15</td>\n",
       "      <td id=\"T_a3644_row2_col1\" class=\"data row2 col1\" >$3.35</td>\n",
       "      <td id=\"T_a3644_row2_col2\" class=\"data row2 col2\" >$50.19</td>\n",
       "      <td id=\"T_a3644_row2_col3\" class=\"data row2 col3\" >$4.56</td>\n",
       "    </tr>\n",
       "  </tbody>\n",
       "</table>\n"
      ],
      "text/plain": [
       "<pandas.io.formats.style.Styler at 0x1aba3fef9d0>"
      ]
     },
     "execution_count": 184,
     "metadata": {},
     "output_type": "execute_result"
    }
   ],
   "source": [
    "# Count the total purchases by gender\n",
    "total_items_purchased = gender_stats[\"Purchase ID\"].count()\n",
    "\n",
    "# Average purchase cost by gender\n",
    "average_purchase_cost = gender_stats[\"Price\"].mean()\n",
    "\n",
    "# Average purchase total by gender \n",
    "average_purchase_total = gender_stats[\"Price\"].sum()\n",
    "\n",
    "# Find average purchase per player, by gender\n",
    "average_purchase_per_player = average_purchase_total/total_genders\n",
    "\n",
    "# Create DF that includes these values\n",
    "gender_demographics_df = pd.DataFrame({\n",
    "    \"Total Items Purchased\":total_items_purchased, \n",
    "    \"Average Purchase Cost\":average_purchase_cost,\n",
    "    \"Average Purchase Value\":average_purchase_total,\n",
    "    \"Average Purchase Total per Player\": average_purchase_per_player})\n",
    "\n",
    "# Add formatting\n",
    "gender_demographics_df.index.name = None\n",
    "gender_demographics_df.style.format({\n",
    "    \"Average Purchase Cost\":\"${:,.2f}\",\n",
    "    \"Average Purchase Value\":\"${:,.2f}\",\n",
    "    \"Average Purchase Total per Player\":\"${:,.2f}\"})"
   ]
  },
  {
   "cell_type": "markdown",
   "metadata": {},
   "source": [
    "### Age Demographics"
   ]
  },
  {
   "cell_type": "markdown",
   "metadata": {},
   "source": [
    "* Establish bins for ages\n",
    "\n",
    "\n",
    "* Categorize the existing players using the age bins. Hint: use pd.cut()\n",
    "\n",
    "\n",
    "* Calculate the numbers and percentages by age group\n",
    "\n",
    "\n",
    "* Create a summary data frame to hold the results\n",
    "\n",
    "\n",
    "* Optional: round the percentage column to two decimal points\n",
    "\n",
    "\n",
    "* Display Age Demographics Table\n"
   ]
  },
  {
   "cell_type": "code",
   "execution_count": 185,
   "metadata": {},
   "outputs": [
    {
     "data": {
      "text/html": [
       "<style type=\"text/css\">\n",
       "</style>\n",
       "<table id=\"T_e93df_\">\n",
       "  <thead>\n",
       "    <tr>\n",
       "      <th class=\"blank level0\" >&nbsp;</th>\n",
       "      <th class=\"col_heading level0 col0\" >Percentage of Players</th>\n",
       "      <th class=\"col_heading level0 col1\" >Total Count</th>\n",
       "    </tr>\n",
       "  </thead>\n",
       "  <tbody>\n",
       "    <tr>\n",
       "      <th id=\"T_e93df_level0_row0\" class=\"row_heading level0 row0\" ><10</th>\n",
       "      <td id=\"T_e93df_row0_col0\" class=\"data row0 col0\" >2.95</td>\n",
       "      <td id=\"T_e93df_row0_col1\" class=\"data row0 col1\" >17</td>\n",
       "    </tr>\n",
       "    <tr>\n",
       "      <th id=\"T_e93df_level0_row1\" class=\"row_heading level0 row1\" >10-14</th>\n",
       "      <td id=\"T_e93df_row1_col0\" class=\"data row1 col0\" >3.82</td>\n",
       "      <td id=\"T_e93df_row1_col1\" class=\"data row1 col1\" >22</td>\n",
       "    </tr>\n",
       "    <tr>\n",
       "      <th id=\"T_e93df_level0_row2\" class=\"row_heading level0 row2\" >15-19</th>\n",
       "      <td id=\"T_e93df_row2_col0\" class=\"data row2 col0\" >18.58</td>\n",
       "      <td id=\"T_e93df_row2_col1\" class=\"data row2 col1\" >107</td>\n",
       "    </tr>\n",
       "    <tr>\n",
       "      <th id=\"T_e93df_level0_row3\" class=\"row_heading level0 row3\" >20-24</th>\n",
       "      <td id=\"T_e93df_row3_col0\" class=\"data row3 col0\" >44.79</td>\n",
       "      <td id=\"T_e93df_row3_col1\" class=\"data row3 col1\" >258</td>\n",
       "    </tr>\n",
       "    <tr>\n",
       "      <th id=\"T_e93df_level0_row4\" class=\"row_heading level0 row4\" >25-29</th>\n",
       "      <td id=\"T_e93df_row4_col0\" class=\"data row4 col0\" >13.37</td>\n",
       "      <td id=\"T_e93df_row4_col1\" class=\"data row4 col1\" >77</td>\n",
       "    </tr>\n",
       "    <tr>\n",
       "      <th id=\"T_e93df_level0_row5\" class=\"row_heading level0 row5\" >30-34</th>\n",
       "      <td id=\"T_e93df_row5_col0\" class=\"data row5 col0\" >9.03</td>\n",
       "      <td id=\"T_e93df_row5_col1\" class=\"data row5 col1\" >52</td>\n",
       "    </tr>\n",
       "    <tr>\n",
       "      <th id=\"T_e93df_level0_row6\" class=\"row_heading level0 row6\" >35-39</th>\n",
       "      <td id=\"T_e93df_row6_col0\" class=\"data row6 col0\" >5.38</td>\n",
       "      <td id=\"T_e93df_row6_col1\" class=\"data row6 col1\" >31</td>\n",
       "    </tr>\n",
       "    <tr>\n",
       "      <th id=\"T_e93df_level0_row7\" class=\"row_heading level0 row7\" >40+</th>\n",
       "      <td id=\"T_e93df_row7_col0\" class=\"data row7 col0\" >2.08</td>\n",
       "      <td id=\"T_e93df_row7_col1\" class=\"data row7 col1\" >12</td>\n",
       "    </tr>\n",
       "  </tbody>\n",
       "</table>\n"
      ],
      "text/plain": [
       "<pandas.io.formats.style.Styler at 0x1aba4126460>"
      ]
     },
     "execution_count": 185,
     "metadata": {},
     "output_type": "execute_result"
    }
   ],
   "source": [
    "# Declare bins\n",
    "bins = [0, 9.90, 14.90, 19.90, 24.90, 29.90, 34.90, 39.90, 99999]\n",
    "bin_labels = [\"<10\", \"10-14\", \"15-19\", \"20-24\", \"25-29\", \"30-34\", \"35-39\", \"40+\"]\n",
    "\n",
    "# Assign age values to new bins\n",
    "pymoli_data[\"Age Group\"] = pd.cut(pymoli_data[\"Age\"],bins, labels=bin_labels)\n",
    "pymoli_data\n",
    "\n",
    "# Create DF that includes these values\n",
    "age_grouped_df = pymoli_data.groupby(\"Age Group\")\n",
    "\n",
    "# Total players by age & percentages by age \n",
    "total_count_age = age_grouped_df[\"SN\"].nunique()\n",
    "percentage_by_age = (total_count_age/total_players)*100\n",
    "\n",
    "# Create DF that includes these values\n",
    "age_demographics_df = pd.DataFrame({\"Percentage of Players\": percentage_by_age, \"Total Count\": total_count_age})\n",
    "\n",
    "# Add formatting \n",
    "age_demographics_df.index.name = None\n",
    "age_demographics_df.style.format({\"Percentage of Players\":\"{:,.2f}\"})"
   ]
  },
  {
   "cell_type": "markdown",
   "metadata": {},
   "source": [
    "### Purchasing Analysis (Age)"
   ]
  },
  {
   "cell_type": "markdown",
   "metadata": {},
   "source": [
    "* Bin the purchase_data data frame by age\n",
    "\n",
    "\n",
    "* Run basic calculations to obtain purchase count, avg. purchase price, avg. purchase total per person etc. in the table below\n",
    "\n",
    "\n",
    "* Create a summary data frame to hold the results\n",
    "\n",
    "\n",
    "* Optional: give the displayed data cleaner formatting\n",
    "\n",
    "\n",
    "* Display the summary data frame"
   ]
  },
  {
   "cell_type": "code",
   "execution_count": 186,
   "metadata": {},
   "outputs": [
    {
     "data": {
      "text/html": [
       "<style type=\"text/css\">\n",
       "</style>\n",
       "<table id=\"T_b6e1c_\">\n",
       "  <thead>\n",
       "    <tr>\n",
       "      <th class=\"blank level0\" >&nbsp;</th>\n",
       "      <th class=\"col_heading level0 col0\" >Purchase Count</th>\n",
       "      <th class=\"col_heading level0 col1\" >Average Purchase Cost</th>\n",
       "      <th class=\"col_heading level0 col2\" >Total Purchase Value</th>\n",
       "      <th class=\"col_heading level0 col3\" >Average Purchase Total per Person</th>\n",
       "    </tr>\n",
       "  </thead>\n",
       "  <tbody>\n",
       "    <tr>\n",
       "      <th id=\"T_b6e1c_level0_row0\" class=\"row_heading level0 row0\" ><10</th>\n",
       "      <td id=\"T_b6e1c_row0_col0\" class=\"data row0 col0\" >23</td>\n",
       "      <td id=\"T_b6e1c_row0_col1\" class=\"data row0 col1\" >$3.35</td>\n",
       "      <td id=\"T_b6e1c_row0_col2\" class=\"data row0 col2\" >$77.13</td>\n",
       "      <td id=\"T_b6e1c_row0_col3\" class=\"data row0 col3\" >$4.54</td>\n",
       "    </tr>\n",
       "    <tr>\n",
       "      <th id=\"T_b6e1c_level0_row1\" class=\"row_heading level0 row1\" >10-14</th>\n",
       "      <td id=\"T_b6e1c_row1_col0\" class=\"data row1 col0\" >28</td>\n",
       "      <td id=\"T_b6e1c_row1_col1\" class=\"data row1 col1\" >$2.96</td>\n",
       "      <td id=\"T_b6e1c_row1_col2\" class=\"data row1 col2\" >$82.78</td>\n",
       "      <td id=\"T_b6e1c_row1_col3\" class=\"data row1 col3\" >$3.76</td>\n",
       "    </tr>\n",
       "    <tr>\n",
       "      <th id=\"T_b6e1c_level0_row2\" class=\"row_heading level0 row2\" >15-19</th>\n",
       "      <td id=\"T_b6e1c_row2_col0\" class=\"data row2 col0\" >136</td>\n",
       "      <td id=\"T_b6e1c_row2_col1\" class=\"data row2 col1\" >$3.04</td>\n",
       "      <td id=\"T_b6e1c_row2_col2\" class=\"data row2 col2\" >$412.89</td>\n",
       "      <td id=\"T_b6e1c_row2_col3\" class=\"data row2 col3\" >$3.86</td>\n",
       "    </tr>\n",
       "    <tr>\n",
       "      <th id=\"T_b6e1c_level0_row3\" class=\"row_heading level0 row3\" >20-24</th>\n",
       "      <td id=\"T_b6e1c_row3_col0\" class=\"data row3 col0\" >365</td>\n",
       "      <td id=\"T_b6e1c_row3_col1\" class=\"data row3 col1\" >$3.05</td>\n",
       "      <td id=\"T_b6e1c_row3_col2\" class=\"data row3 col2\" >$1,114.06</td>\n",
       "      <td id=\"T_b6e1c_row3_col3\" class=\"data row3 col3\" >$4.32</td>\n",
       "    </tr>\n",
       "    <tr>\n",
       "      <th id=\"T_b6e1c_level0_row4\" class=\"row_heading level0 row4\" >25-29</th>\n",
       "      <td id=\"T_b6e1c_row4_col0\" class=\"data row4 col0\" >101</td>\n",
       "      <td id=\"T_b6e1c_row4_col1\" class=\"data row4 col1\" >$2.90</td>\n",
       "      <td id=\"T_b6e1c_row4_col2\" class=\"data row4 col2\" >$293.00</td>\n",
       "      <td id=\"T_b6e1c_row4_col3\" class=\"data row4 col3\" >$3.81</td>\n",
       "    </tr>\n",
       "    <tr>\n",
       "      <th id=\"T_b6e1c_level0_row5\" class=\"row_heading level0 row5\" >30-34</th>\n",
       "      <td id=\"T_b6e1c_row5_col0\" class=\"data row5 col0\" >73</td>\n",
       "      <td id=\"T_b6e1c_row5_col1\" class=\"data row5 col1\" >$2.93</td>\n",
       "      <td id=\"T_b6e1c_row5_col2\" class=\"data row5 col2\" >$214.00</td>\n",
       "      <td id=\"T_b6e1c_row5_col3\" class=\"data row5 col3\" >$4.12</td>\n",
       "    </tr>\n",
       "    <tr>\n",
       "      <th id=\"T_b6e1c_level0_row6\" class=\"row_heading level0 row6\" >35-39</th>\n",
       "      <td id=\"T_b6e1c_row6_col0\" class=\"data row6 col0\" >41</td>\n",
       "      <td id=\"T_b6e1c_row6_col1\" class=\"data row6 col1\" >$3.60</td>\n",
       "      <td id=\"T_b6e1c_row6_col2\" class=\"data row6 col2\" >$147.67</td>\n",
       "      <td id=\"T_b6e1c_row6_col3\" class=\"data row6 col3\" >$4.76</td>\n",
       "    </tr>\n",
       "    <tr>\n",
       "      <th id=\"T_b6e1c_level0_row7\" class=\"row_heading level0 row7\" >40+</th>\n",
       "      <td id=\"T_b6e1c_row7_col0\" class=\"data row7 col0\" >13</td>\n",
       "      <td id=\"T_b6e1c_row7_col1\" class=\"data row7 col1\" >$2.94</td>\n",
       "      <td id=\"T_b6e1c_row7_col2\" class=\"data row7 col2\" >$38.24</td>\n",
       "      <td id=\"T_b6e1c_row7_col3\" class=\"data row7 col3\" >$3.19</td>\n",
       "    </tr>\n",
       "  </tbody>\n",
       "</table>\n"
      ],
      "text/plain": [
       "<pandas.io.formats.style.Styler at 0x1aba3fefd30>"
      ]
     },
     "execution_count": 186,
     "metadata": {},
     "output_type": "execute_result"
    }
   ],
   "source": [
    "# Total purchases by the age group\n",
    "total_purchases_by_age = age_grouped_df[\"Purchase ID\"].count()\n",
    "\n",
    "# Average purchase cost by the age group\n",
    "average_purchase_cost_by_age = age_grouped_df[\"Price\"].mean()\n",
    "\n",
    "# Total purchase value by the age group\n",
    "total_purchase_value = age_grouped_df[\"Price\"].sum()\n",
    "\n",
    "# Average purchase per person by the age group\n",
    "average_purchase_per_person_by_age = total_purchase_value/total_count_age\n",
    "\n",
    "# Create DF that includes these values\n",
    "age_demographics_df = pd.DataFrame({\n",
    "    \"Purchase Count\": total_purchases_by_age,\n",
    "    \"Average Purchase Cost\": average_purchase_cost_by_age,\n",
    "    \"Total Purchase Value\":total_purchase_value,\n",
    "     \"Average Purchase Total per Person\": average_purchase_per_person_by_age})\n",
    "\n",
    "# Add formatting\n",
    "age_demographics_df.index.name = None\n",
    "age_demographics_df.style.format({\n",
    "    \"Average Purchase Cost\":\"${:,.2f}\",\n",
    "    \"Total Purchase Value\":\"${:,.2f}\",\n",
    "    \"Average Purchase Total per Person\":\"${:,.2f}\"})\n",
    "\n"
   ]
  },
  {
   "cell_type": "markdown",
   "metadata": {},
   "source": [
    "### Top Spenders"
   ]
  },
  {
   "cell_type": "markdown",
   "metadata": {},
   "source": [
    "* Run basic calculations to obtain the results in the table below\n",
    "\n",
    "\n",
    "* Create a summary data frame to hold the results\n",
    "\n",
    "\n",
    "* Sort the total purchase value column in descending order\n",
    "\n",
    "\n",
    "* Optional: give the displayed data cleaner formatting\n",
    "\n",
    "\n",
    "* Display a preview of the summary data frame\n",
    "\n"
   ]
  },
  {
   "cell_type": "code",
   "execution_count": 187,
   "metadata": {},
   "outputs": [
    {
     "data": {
      "text/html": [
       "<style type=\"text/css\">\n",
       "</style>\n",
       "<table id=\"T_51ed3_\">\n",
       "  <thead>\n",
       "    <tr>\n",
       "      <th class=\"blank level0\" >&nbsp;</th>\n",
       "      <th class=\"col_heading level0 col0\" >Total Purchases</th>\n",
       "      <th class=\"col_heading level0 col1\" >Average Purchase Cost</th>\n",
       "      <th class=\"col_heading level0 col2\" >Total Purchase Value</th>\n",
       "    </tr>\n",
       "  </thead>\n",
       "  <tbody>\n",
       "    <tr>\n",
       "      <th id=\"T_51ed3_level0_row0\" class=\"row_heading level0 row0\" >Lisosia93</th>\n",
       "      <td id=\"T_51ed3_row0_col0\" class=\"data row0 col0\" >5</td>\n",
       "      <td id=\"T_51ed3_row0_col1\" class=\"data row0 col1\" >$3.79</td>\n",
       "      <td id=\"T_51ed3_row0_col2\" class=\"data row0 col2\" >$18.96</td>\n",
       "    </tr>\n",
       "    <tr>\n",
       "      <th id=\"T_51ed3_level0_row1\" class=\"row_heading level0 row1\" >Idastidru52</th>\n",
       "      <td id=\"T_51ed3_row1_col0\" class=\"data row1 col0\" >4</td>\n",
       "      <td id=\"T_51ed3_row1_col1\" class=\"data row1 col1\" >$3.86</td>\n",
       "      <td id=\"T_51ed3_row1_col2\" class=\"data row1 col2\" >$15.45</td>\n",
       "    </tr>\n",
       "    <tr>\n",
       "      <th id=\"T_51ed3_level0_row2\" class=\"row_heading level0 row2\" >Chamjask73</th>\n",
       "      <td id=\"T_51ed3_row2_col0\" class=\"data row2 col0\" >3</td>\n",
       "      <td id=\"T_51ed3_row2_col1\" class=\"data row2 col1\" >$4.61</td>\n",
       "      <td id=\"T_51ed3_row2_col2\" class=\"data row2 col2\" >$13.83</td>\n",
       "    </tr>\n",
       "    <tr>\n",
       "      <th id=\"T_51ed3_level0_row3\" class=\"row_heading level0 row3\" >Iral74</th>\n",
       "      <td id=\"T_51ed3_row3_col0\" class=\"data row3 col0\" >4</td>\n",
       "      <td id=\"T_51ed3_row3_col1\" class=\"data row3 col1\" >$3.41</td>\n",
       "      <td id=\"T_51ed3_row3_col2\" class=\"data row3 col2\" >$13.62</td>\n",
       "    </tr>\n",
       "    <tr>\n",
       "      <th id=\"T_51ed3_level0_row4\" class=\"row_heading level0 row4\" >Iskadarya95</th>\n",
       "      <td id=\"T_51ed3_row4_col0\" class=\"data row4 col0\" >3</td>\n",
       "      <td id=\"T_51ed3_row4_col1\" class=\"data row4 col1\" >$4.37</td>\n",
       "      <td id=\"T_51ed3_row4_col2\" class=\"data row4 col2\" >$13.10</td>\n",
       "    </tr>\n",
       "  </tbody>\n",
       "</table>\n"
      ],
      "text/plain": [
       "<pandas.io.formats.style.Styler at 0x1aba4154d00>"
      ]
     },
     "execution_count": 187,
     "metadata": {},
     "output_type": "execute_result"
    }
   ],
   "source": [
    "# Group purchase data by screen names gathered from \"SN\" column\n",
    "spenders = pymoli_data.groupby(\"SN\")\n",
    "\n",
    "# Total purchases by player name\n",
    "total_purchases_by_spender = spenders[\"Purchase ID\"].count().round(2)\n",
    "\n",
    "# Average purchase cost by player name \n",
    "avg_purchase_price_spender = spenders[\"Price\"].mean().round(2)\n",
    "\n",
    "# Purchase total by player name \n",
    "purchase_total_spender = spenders[\"Price\"].sum().round(2)\n",
    "\n",
    "# Create DF that includes these values\n",
    "top_5_spenders_df = pd.DataFrame({\n",
    "    \"Total Purchases\": total_purchases_by_spender,\n",
    "    \"Average Purchase Cost\": avg_purchase_price_spender,\n",
    "    \"Total Purchase Value\":purchase_total_spender})\n",
    "\n",
    "# Add formatting\n",
    "top_5_spenders_df = top_spenders.sort_values([\"Total Purchase Value\"], ascending=False).head(5)\n",
    "top_5_spenders_df.index.name = None\n",
    "top_5_spenders_df.style.format({\n",
    "    \"Average Purchase Total\":\"${:,.2f}\",\n",
    "    \"Average Purchase Cost\":\"${:,.2f}\", \n",
    "    \"Total Purchase Value\":\"${:,.2f}\"})\n",
    "\n"
   ]
  },
  {
   "cell_type": "markdown",
   "metadata": {},
   "source": [
    "### Most Popular Items"
   ]
  },
  {
   "cell_type": "markdown",
   "metadata": {},
   "source": [
    "* Retrieve the Item ID, Item Name, and Item Price columns\n",
    "\n",
    "\n",
    "* Group by Item ID and Item Name. Perform calculations to obtain purchase count, average item price, and total purchase value\n",
    "\n",
    "\n",
    "* Create a summary data frame to hold the results\n",
    "\n",
    "\n",
    "* Sort the purchase count column in descending order\n",
    "\n",
    "\n",
    "* Optional: give the displayed data cleaner formatting\n",
    "\n",
    "\n",
    "* Display a preview of the summary data frame\n",
    "\n"
   ]
  },
  {
   "cell_type": "code",
   "execution_count": 188,
   "metadata": {},
   "outputs": [
    {
     "data": {
      "text/html": [
       "<style type=\"text/css\">\n",
       "</style>\n",
       "<table id=\"T_841eb_\">\n",
       "  <thead>\n",
       "    <tr>\n",
       "      <th class=\"blank\" >&nbsp;</th>\n",
       "      <th class=\"blank level0\" >&nbsp;</th>\n",
       "      <th class=\"col_heading level0 col0\" >Total Purchases</th>\n",
       "      <th class=\"col_heading level0 col1\" >Item Cost</th>\n",
       "      <th class=\"col_heading level0 col2\" >Total Purchase Value</th>\n",
       "    </tr>\n",
       "    <tr>\n",
       "      <th class=\"index_name level0\" >Item ID</th>\n",
       "      <th class=\"index_name level1\" >Item Name</th>\n",
       "      <th class=\"blank col0\" >&nbsp;</th>\n",
       "      <th class=\"blank col1\" >&nbsp;</th>\n",
       "      <th class=\"blank col2\" >&nbsp;</th>\n",
       "    </tr>\n",
       "  </thead>\n",
       "  <tbody>\n",
       "    <tr>\n",
       "      <th id=\"T_841eb_level0_row0\" class=\"row_heading level0 row0\" >92</th>\n",
       "      <th id=\"T_841eb_level1_row0\" class=\"row_heading level1 row0\" >Final Critic</th>\n",
       "      <td id=\"T_841eb_row0_col0\" class=\"data row0 col0\" >13</td>\n",
       "      <td id=\"T_841eb_row0_col1\" class=\"data row0 col1\" >$4.61</td>\n",
       "      <td id=\"T_841eb_row0_col2\" class=\"data row0 col2\" >$59.99</td>\n",
       "    </tr>\n",
       "    <tr>\n",
       "      <th id=\"T_841eb_level0_row1\" class=\"row_heading level0 row1\" >178</th>\n",
       "      <th id=\"T_841eb_level1_row1\" class=\"row_heading level1 row1\" >Oathbreaker, Last Hope of the Breaking Storm</th>\n",
       "      <td id=\"T_841eb_row1_col0\" class=\"data row1 col0\" >12</td>\n",
       "      <td id=\"T_841eb_row1_col1\" class=\"data row1 col1\" >$4.23</td>\n",
       "      <td id=\"T_841eb_row1_col2\" class=\"data row1 col2\" >$50.76</td>\n",
       "    </tr>\n",
       "    <tr>\n",
       "      <th id=\"T_841eb_level0_row2\" class=\"row_heading level0 row2\" >145</th>\n",
       "      <th id=\"T_841eb_level1_row2\" class=\"row_heading level1 row2\" >Fiery Glass Crusader</th>\n",
       "      <td id=\"T_841eb_row2_col0\" class=\"data row2 col0\" >9</td>\n",
       "      <td id=\"T_841eb_row2_col1\" class=\"data row2 col1\" >$4.58</td>\n",
       "      <td id=\"T_841eb_row2_col2\" class=\"data row2 col2\" >$41.22</td>\n",
       "    </tr>\n",
       "    <tr>\n",
       "      <th id=\"T_841eb_level0_row3\" class=\"row_heading level0 row3\" >132</th>\n",
       "      <th id=\"T_841eb_level1_row3\" class=\"row_heading level1 row3\" >Persuasion</th>\n",
       "      <td id=\"T_841eb_row3_col0\" class=\"data row3 col0\" >9</td>\n",
       "      <td id=\"T_841eb_row3_col1\" class=\"data row3 col1\" >$3.22</td>\n",
       "      <td id=\"T_841eb_row3_col2\" class=\"data row3 col2\" >$28.99</td>\n",
       "    </tr>\n",
       "    <tr>\n",
       "      <th id=\"T_841eb_level0_row4\" class=\"row_heading level0 row4\" >108</th>\n",
       "      <th id=\"T_841eb_level1_row4\" class=\"row_heading level1 row4\" >Extraction, Quickblade Of Trembling Hands</th>\n",
       "      <td id=\"T_841eb_row4_col0\" class=\"data row4 col0\" >9</td>\n",
       "      <td id=\"T_841eb_row4_col1\" class=\"data row4 col1\" >$3.53</td>\n",
       "      <td id=\"T_841eb_row4_col2\" class=\"data row4 col2\" >$31.77</td>\n",
       "    </tr>\n",
       "  </tbody>\n",
       "</table>\n"
      ],
      "text/plain": [
       "<pandas.io.formats.style.Styler at 0x1aba41fc880>"
      ]
     },
     "execution_count": 188,
     "metadata": {},
     "output_type": "execute_result"
    }
   ],
   "source": [
    "# Group items by Item ID & Item Name\n",
    "items_group = pymoli_data.groupby([\"Item ID\", \"Item Name\"])\n",
    "\n",
    "# Total number of purchases for item\n",
    "item_total_purchases = items_group[\"Price\"].count().round(2)\n",
    "\n",
    "# Purchase value per item\n",
    "item_value = items_group[\"Price\"].sum().round(2)\n",
    "\n",
    "# Calculate cost per item\n",
    "item_cost = item_value/item_total_purchases\n",
    "\n",
    "# Create DF that includes these values\n",
    "most_popular_items_df = pd.DataFrame({\n",
    "    \"Total Purchases\":item_total_purchases,\n",
    "    \"Item Cost\":item_cost,\n",
    "    \"Total Purchase Value\":item_value})\n",
    "\n",
    "\n",
    "# Sort in descending order to obtain top spender names and provide top 5 item names\n",
    "most_popular_items_formatting = most_popular_items_df.sort_values([\"Total Purchases\"], ascending=False).head()\n",
    "\n",
    "# Format with currency style\n",
    "most_popular_items_formatting.style.format({\n",
    "    \"Item Cost\":\"${:,.2f}\",\n",
    "    \"Total Purchase Value\":\"${:,.2f}\"})"
   ]
  },
  {
   "cell_type": "markdown",
   "metadata": {},
   "source": [
    "### Most Profitable Items"
   ]
  },
  {
   "cell_type": "markdown",
   "metadata": {},
   "source": [
    "* Sort the above table by total purchase value in descending order\n",
    "\n",
    "\n",
    "* Optional: give the displayed data cleaner formatting\n",
    "\n",
    "\n",
    "* Display a preview of the data frame\n",
    "\n"
   ]
  },
  {
   "cell_type": "code",
   "execution_count": 189,
   "metadata": {
    "scrolled": true
   },
   "outputs": [
    {
     "data": {
      "text/html": [
       "<div>\n",
       "<style scoped>\n",
       "    .dataframe tbody tr th:only-of-type {\n",
       "        vertical-align: middle;\n",
       "    }\n",
       "\n",
       "    .dataframe tbody tr th {\n",
       "        vertical-align: top;\n",
       "    }\n",
       "\n",
       "    .dataframe thead th {\n",
       "        text-align: right;\n",
       "    }\n",
       "</style>\n",
       "<table border=\"1\" class=\"dataframe\">\n",
       "  <thead>\n",
       "    <tr style=\"text-align: right;\">\n",
       "      <th></th>\n",
       "      <th></th>\n",
       "      <th>Total Purchases</th>\n",
       "      <th>Item Cost</th>\n",
       "      <th>Total Purchase Value</th>\n",
       "    </tr>\n",
       "    <tr>\n",
       "      <th>Item ID</th>\n",
       "      <th>Item Name</th>\n",
       "      <th></th>\n",
       "      <th></th>\n",
       "      <th></th>\n",
       "    </tr>\n",
       "  </thead>\n",
       "  <tbody>\n",
       "    <tr>\n",
       "      <th>92</th>\n",
       "      <th>Final Critic</th>\n",
       "      <td>13</td>\n",
       "      <td>4.614615</td>\n",
       "      <td>59.99</td>\n",
       "    </tr>\n",
       "    <tr>\n",
       "      <th>178</th>\n",
       "      <th>Oathbreaker, Last Hope of the Breaking Storm</th>\n",
       "      <td>12</td>\n",
       "      <td>4.230000</td>\n",
       "      <td>50.76</td>\n",
       "    </tr>\n",
       "    <tr>\n",
       "      <th>145</th>\n",
       "      <th>Fiery Glass Crusader</th>\n",
       "      <td>9</td>\n",
       "      <td>4.580000</td>\n",
       "      <td>41.22</td>\n",
       "    </tr>\n",
       "    <tr>\n",
       "      <th>132</th>\n",
       "      <th>Persuasion</th>\n",
       "      <td>9</td>\n",
       "      <td>3.221111</td>\n",
       "      <td>28.99</td>\n",
       "    </tr>\n",
       "    <tr>\n",
       "      <th>108</th>\n",
       "      <th>Extraction, Quickblade Of Trembling Hands</th>\n",
       "      <td>9</td>\n",
       "      <td>3.530000</td>\n",
       "      <td>31.77</td>\n",
       "    </tr>\n",
       "  </tbody>\n",
       "</table>\n",
       "</div>"
      ],
      "text/plain": [
       "                                                      Total Purchases  \\\n",
       "Item ID Item Name                                                       \n",
       "92      Final Critic                                               13   \n",
       "178     Oathbreaker, Last Hope of the Breaking Storm               12   \n",
       "145     Fiery Glass Crusader                                        9   \n",
       "132     Persuasion                                                  9   \n",
       "108     Extraction, Quickblade Of Trembling Hands                   9   \n",
       "\n",
       "                                                      Item Cost  \\\n",
       "Item ID Item Name                                                 \n",
       "92      Final Critic                                   4.614615   \n",
       "178     Oathbreaker, Last Hope of the Breaking Storm   4.230000   \n",
       "145     Fiery Glass Crusader                           4.580000   \n",
       "132     Persuasion                                     3.221111   \n",
       "108     Extraction, Quickblade Of Trembling Hands      3.530000   \n",
       "\n",
       "                                                      Total Purchase Value  \n",
       "Item ID Item Name                                                           \n",
       "92      Final Critic                                                 59.99  \n",
       "178     Oathbreaker, Last Hope of the Breaking Storm                 50.76  \n",
       "145     Fiery Glass Crusader                                         41.22  \n",
       "132     Persuasion                                                   28.99  \n",
       "108     Extraction, Quickblade Of Trembling Hands                    31.77  "
      ]
     },
     "execution_count": 189,
     "metadata": {},
     "output_type": "execute_result"
    }
   ],
   "source": [
    "# Add extra formatting\n",
    "most_profitable_items = most_popular_items_formatting.sort_values(\"Total Purchase Value\", ascending=False)\n",
    "most_profitable_items = most_popular_items_formatting.loc[:,[\"Total Purchases\", \"Item Cost\", \"Total Purchase Value\"]]\n",
    "\n",
    "most_profitable_items.head(5)"
   ]
  },
  {
   "cell_type": "code",
   "execution_count": null,
   "metadata": {},
   "outputs": [],
   "source": []
  },
  {
   "cell_type": "code",
   "execution_count": null,
   "metadata": {},
   "outputs": [],
   "source": []
  },
  {
   "cell_type": "code",
   "execution_count": null,
   "metadata": {},
   "outputs": [],
   "source": []
  },
  {
   "cell_type": "code",
   "execution_count": null,
   "metadata": {},
   "outputs": [],
   "source": []
  }
 ],
 "metadata": {
  "anaconda-cloud": {},
  "kernel_info": {
   "name": "python3"
  },
  "kernelspec": {
   "display_name": "Python 3 (ipykernel)",
   "language": "python",
   "name": "python3"
  },
  "language_info": {
   "codemirror_mode": {
    "name": "ipython",
    "version": 3
   },
   "file_extension": ".py",
   "mimetype": "text/x-python",
   "name": "python",
   "nbconvert_exporter": "python",
   "pygments_lexer": "ipython3",
   "version": "3.9.7"
  },
  "latex_envs": {
   "LaTeX_envs_menu_present": true,
   "autoclose": false,
   "autocomplete": true,
   "bibliofile": "biblio.bib",
   "cite_by": "apalike",
   "current_citInitial": 1,
   "eqLabelWithNumbers": true,
   "eqNumInitial": 1,
   "hotkeys": {
    "equation": "Ctrl-E",
    "itemize": "Ctrl-I"
   },
   "labels_anchors": false,
   "latex_user_defs": false,
   "report_style_numbering": false,
   "user_envs_cfg": false
  },
  "nteract": {
   "version": "0.2.0"
  }
 },
 "nbformat": 4,
 "nbformat_minor": 4
}
